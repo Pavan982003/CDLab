{
  "nbformat": 4,
  "nbformat_minor": 0,
  "metadata": {
    "colab": {
      "provenance": [],
      "authorship_tag": "ABX9TyN2Vbhq+7pfFFHSIX4MOcu9",
      "include_colab_link": true
    },
    "kernelspec": {
      "name": "python3",
      "display_name": "Python 3"
    },
    "language_info": {
      "name": "python"
    }
  },
  "cells": [
    {
      "cell_type": "markdown",
      "metadata": {
        "id": "view-in-github",
        "colab_type": "text"
      },
      "source": [
        "<a href=\"https://colab.research.google.com/github/Pavan982003/CDLab/blob/main/exp4.ipynb\" target=\"_parent\"><img src=\"https://colab.research.google.com/assets/colab-badge.svg\" alt=\"Open In Colab\"/></a>"
      ]
    },
    {
      "cell_type": "code",
      "execution_count": 2,
      "metadata": {
        "colab": {
          "base_uri": "https://localhost:8080/"
        },
        "id": "rOhq-NH5BQF0",
        "outputId": "99718d0c-8b44-48be-a4a8-e56b4504eab6"
      },
      "outputs": [
        {
          "output_type": "stream",
          "name": "stdout",
          "text": [
            "state     | epsilon   | a         | b         \n",
            "----------------------------------------------\n",
            "1         | 2 7       | -         | -         \n",
            "2         | 3         | 3         | -         \n",
            "3         | 4 6       | -         | -         \n",
            "4         | -         | -         | 5         \n",
            "5         | 4 6       | -         | -         \n",
            "6         | 2 7       | -         | -         \n",
            "7         | -         | -         | -         \n"
          ]
        }
      ],
      "source": [
        "from itertools import takewhile\n",
        "\n",
        "s= \"S->iEtS|iEtSeS|a\"\n",
        "\n",
        "def groupby(ls):\n",
        "    d = {}\n",
        "    ls = [ y[0] for y in rules ]\n",
        "    initial = list(set(ls))\n",
        "    for y in initial:\n",
        "        for i in rules:\n",
        "            if i.startswith(y):\n",
        "                if y not in d:\n",
        "                    d[y] = []\n",
        "                d[y].append(i)\n",
        "    return d\n",
        "\n",
        "def prefix(x):\n",
        "    return len(set(x)) == 1\n",
        "\n",
        "\n",
        "starting=\"\"\n",
        "rules=[]\n",
        "common=[]\n",
        "alphabetset=[\"A'\",\"B'\",\"C'\",\"D'\",\"E'\",\"F'\",\"G'\",\"H'\",\"I'\",\"J'\",\"K'\",\"L'\",\"M'\",\"N'\",\"O'\",\"P'\",\"Q'\",\"R'\",\"S'\",\"T'\",\"U'\",\"V'\",\"W'\",\"X'\",\"Y'\",\"Z'\"]\n",
        "s = s.replace(\" \", \"\").replace(\"\t\", \"\").replace(\"\\n\", \"\")\n",
        "\n",
        "while(True):\n",
        "    rules=[]\n",
        "    common=[]\n",
        "    split=s.split(\"->\")\n",
        "    starting=split[0]\n",
        "    for i in split[1].split(\"|\"):\n",
        "        rules.append(i)\n",
        "\n",
        "#logic for taking commons out\n",
        "    for k, l in groupby(rules).items():\n",
        "        r = [l[0] for l in takewhile(prefix, zip(*l))]\n",
        "        common.append(''.join(r))\n",
        "#end of taking commons\n",
        "    for i in common:\n",
        "        newalphabet=alphabetset.pop()\n",
        "        print(starting+\"->\"+i+newalphabet)\n",
        "        index=[]\n",
        "        for k in rules:\n",
        "            if(k.startswith(i)):\n",
        "                index.append(k)\n",
        "        print(newalphabet+\"->\",end=\"\")\n",
        "        for j in index[:-1]:\n",
        "            stringtoprint=j.replace(i,\"\", 1)+\"|\"\n",
        "            if stringtoprint==\"|\":\n",
        "                print(\"\\u03B5\",\"|\",end=\"\")\n",
        "            else:\n",
        "                print(j.replace(i,\"\", 1)+\"|\",end=\"\")\n",
        "        stringtoprint=index[-1].replace(i,\"\", 1)+\"|\"\n",
        "        if stringtoprint==\"|\":\n",
        "            print(\"\\u03B5\",\"\",end=\"\")\n",
        "        else:\n",
        "            print(index[-1].replace(i,\"\", 1)+\"\",end=\"\")\n",
        "        print(\"\")\n",
        "    break"
      ]
    }
  ]
}